{
 "cells": [
  {
   "cell_type": "markdown",
   "id": "059b04b0",
   "metadata": {},
   "source": [
    "## 1. Floating-Point Arithmetic Errors\n",
    "Floating-point numbers are approximations, so calculations involving them can produce unexpected results.\n",
    "#### Example:"
   ]
  },
  {
   "cell_type": "code",
   "execution_count": 1,
   "id": "4e839994",
   "metadata": {},
   "outputs": [
    {
     "name": "stdout",
     "output_type": "stream",
     "text": [
      "0.30000000000000004\n",
      "False\n"
     ]
    }
   ],
   "source": [
    "print(0.1 + 0.2)  # Output: 0.30000000000000004\n",
    "print(0.3 - 0.2 == 0.1)  # Output: False"
   ]
  },
  {
   "cell_type": "markdown",
   "id": "bbf904b8",
   "metadata": {},
   "source": [
    "## 2. Mutable Default Arguments\n",
    "Using mutable objects (like lists or dictionaries) as default arguments in functions can lead to surprising behavior.\n",
    "#### Example:"
   ]
  },
  {
   "cell_type": "code",
   "execution_count": 2,
   "id": "dc9bacda",
   "metadata": {},
   "outputs": [
    {
     "name": "stdout",
     "output_type": "stream",
     "text": [
      "[1]\n",
      "[1, 2]\n"
     ]
    }
   ],
   "source": [
    "def append_to_list(value, lst=[]):\n",
    "    lst.append(value)\n",
    "    return lst\n",
    "\n",
    "print(append_to_list(1))  # Output: [1]\n",
    "print(append_to_list(2))  # Output: [1, 2] (same list is reused!)"
   ]
  },
  {
   "cell_type": "markdown",
   "id": "0f039571",
   "metadata": {},
   "source": [
    "## 3. NaN is Not Equal to Itself\n",
    "`NaN` (Not a Number) is not equal to itself, as per IEEE 754 floating-point standard.\n",
    "#### Example:"
   ]
  },
  {
   "cell_type": "code",
   "execution_count": 3,
   "id": "b3cce86c",
   "metadata": {},
   "outputs": [
    {
     "name": "stdout",
     "output_type": "stream",
     "text": [
      "False\n"
     ]
    }
   ],
   "source": [
    "import math\n",
    "print(math.nan == math.nan)  # Output: False"
   ]
  },
  {
   "cell_type": "markdown",
   "id": "56c8a6db",
   "metadata": {},
   "source": [
    "## 4. Integer Overflow Doesn't Exist\n",
    "Python integers have arbitrary precision, unlike many other languages where integers have fixed sizes.\n",
    "#### Example:"
   ]
  },
  {
   "cell_type": "code",
   "execution_count": 4,
   "id": "c66af371",
   "metadata": {},
   "outputs": [
    {
     "name": "stdout",
     "output_type": "stream",
     "text": [
      "10715086071862673209484250490600018105614048117055336074437503883703510511249361224931983788156958581275946729175531468251871452856923140435984577574698574803934567774824230985421074605062371141877954182153046474983581941267398767559165543946077062914571196477686542167660429831652624386837205668069376\n"
     ]
    }
   ],
   "source": [
    "x = 2 ** 1000\n",
    "print(x)  # Huge number without overflow"
   ]
  },
  {
   "cell_type": "markdown",
   "id": "82f452dd",
   "metadata": {},
   "source": [
    "## 5. Chained Comparisons\n",
    "Python allows chaining comparisons for readability, but it can sometimes be confusing.\n",
    "#### Example:"
   ]
  },
  {
   "cell_type": "code",
   "execution_count": 5,
   "id": "e7f4f69f",
   "metadata": {},
   "outputs": [
    {
     "name": "stdout",
     "output_type": "stream",
     "text": [
      "True\n",
      "True\n"
     ]
    }
   ],
   "source": [
    "print(1 < 2 < 3)  # Output: True\n",
    "print(1 < 3 > 2)  # Output: True"
   ]
  },
  {
   "cell_type": "markdown",
   "id": "4c090a1b",
   "metadata": {},
   "source": [
    "## 6. Unexpected Boolean Conversion\n",
    "In Python, non-zero numbers and non-empty collections are `True`, while `0`, `None`, and empty collections are `False`.\n",
    "#### Example:"
   ]
  },
  {
   "cell_type": "code",
   "execution_count": 6,
   "id": "e9c9f5b6",
   "metadata": {},
   "outputs": [
    {
     "name": "stdout",
     "output_type": "stream",
     "text": [
      "False\n",
      "True\n"
     ]
    }
   ],
   "source": [
    "print(bool([]))  # Output: False\n",
    "print(bool([0]))  # Output: True (list is non-empty!)"
   ]
  },
  {
   "cell_type": "markdown",
   "id": "1a9cbca9",
   "metadata": {},
   "source": [
    "## 7. String Immutability\n",
    "Strings in Python are immutable, so operations that modify them create new objects instead.\n",
    "#### Example:"
   ]
  },
  {
   "cell_type": "code",
   "execution_count": 7,
   "id": "9f9e2dcb",
   "metadata": {},
   "outputs": [
    {
     "name": "stdout",
     "output_type": "stream",
     "text": [
      "hello world\n"
     ]
    }
   ],
   "source": [
    "s = 'hello'\n",
    "s += ' world'\n",
    "print(s)  # Output: 'hello world' (creates a new string)"
   ]
  },
  {
   "cell_type": "markdown",
   "id": "70045e82",
   "metadata": {},
   "source": [
    "## 8. Variable Name Shadowing\n",
    "Loop variables can 'leak' outside the loop scope, leading to unintended behavior.\n",
    "#### Example:"
   ]
  },
  {
   "cell_type": "code",
   "execution_count": 8,
   "id": "5265567e",
   "metadata": {},
   "outputs": [
    {
     "name": "stdout",
     "output_type": "stream",
     "text": [
      "4\n"
     ]
    }
   ],
   "source": [
    "for i in range(5):\n",
    "    pass\n",
    "\n",
    "print(i)  # Output: 4 (loop variable is accessible)"
   ]
  },
  {
   "cell_type": "markdown",
   "id": "334f5fe0",
   "metadata": {},
   "source": [
    "## 9. Implicit Type Conversion\n",
    "Python allows implicit type conversion, which can lead to unexpected results.\n",
    "#### Example:"
   ]
  },
  {
   "cell_type": "code",
   "execution_count": 9,
   "id": "be564399",
   "metadata": {},
   "outputs": [
    {
     "name": "stdout",
     "output_type": "stream",
     "text": [
      "1.1\n",
      "1010\n"
     ]
    }
   ],
   "source": [
    "print(0.1 + 1)  # Output: 1.1\n",
    "print('10' * 2)  # Output: '1010' (not 20)"
   ]
  },
  {
   "cell_type": "markdown",
   "id": "5e29453e",
   "metadata": {},
   "source": [
    "## 10. Hash Collisions in Dictionaries\n",
    "Objects with the same hash value may overwrite each other when used as dictionary keys.\n",
    "#### Example:"
   ]
  },
  {
   "cell_type": "code",
   "execution_count": 10,
   "id": "a043730b",
   "metadata": {},
   "outputs": [
    {
     "name": "stdout",
     "output_type": "stream",
     "text": [
      "{<__main__.AlwaysEqual object at 0x000001FD2416B7A0>: 'second'}\n"
     ]
    }
   ],
   "source": [
    "class AlwaysEqual:\n",
    "    def __eq__(self, other):\n",
    "        return True\n",
    "    def __hash__(self):\n",
    "        return 42\n",
    "\n",
    "a = AlwaysEqual()\n",
    "b = AlwaysEqual()\n",
    "d = {a: 'first', b: 'second'}\n",
    "print(d)  # Output: {<AlwaysEqual object>: 'second'}"
   ]
  }
 ],
 "metadata": {
  "kernelspec": {
   "display_name": "base",
   "language": "python",
   "name": "python3"
  },
  "language_info": {
   "codemirror_mode": {
    "name": "ipython",
    "version": 3
   },
   "file_extension": ".py",
   "mimetype": "text/x-python",
   "name": "python",
   "nbconvert_exporter": "python",
   "pygments_lexer": "ipython3",
   "version": "3.12.4"
  }
 },
 "nbformat": 4,
 "nbformat_minor": 5
}
